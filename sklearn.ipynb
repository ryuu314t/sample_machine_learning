{
 "cells": [
  {
   "cell_type": "markdown",
   "metadata": {},
   "source": [
    "#Stratified：目的変数の比率を保ったまま分割"
   ]
  },
  {
   "cell_type": "code",
   "execution_count": 4,
   "metadata": {
    "collapsed": false
   },
   "outputs": [
    {
     "name": "stdout",
     "output_type": "stream",
     "text": [
      "[ 0.37181996  0.62818004] 511 [ 0.37931034  0.62068966] 58\n",
      "[ 0.37181996  0.62818004] 511 [ 0.37931034  0.62068966] 58\n",
      "[ 0.37304688  0.62695312] 512 [ 0.36842105  0.63157895] 57\n",
      "[ 0.37304688  0.62695312] 512 [ 0.36842105  0.63157895] 57\n",
      "[ 0.37304688  0.62695312] 512 [ 0.36842105  0.63157895] 57\n",
      "[ 0.37304688  0.62695312] 512 [ 0.36842105  0.63157895] 57\n",
      "[ 0.37304688  0.62695312] 512 [ 0.36842105  0.63157895] 57\n",
      "[ 0.37231969  0.62768031] 513 [ 0.375  0.625] 56\n",
      "[ 0.37231969  0.62768031] 513 [ 0.375  0.625] 56\n",
      "[ 0.37231969  0.62768031] 513 [ 0.375  0.625] 56\n"
     ]
    }
   ],
   "source": [
    "import numpy as np\n",
    "\n",
    "from sklearn.datasets import load_breast_cancer\n",
    "data = load_breast_cancer()\n",
    "X = data.data\n",
    "y = data.target\n",
    "\n",
    "from sklearn.model_selection import StratifiedKFold\n",
    "ss = StratifiedKFold(n_splits=10, shuffle=True)\n",
    "\n",
    "for train_index, test_index in ss.split(X, y):\n",
    "\n",
    "    X_train, X_test = X[train_index], X[test_index]\n",
    "    y_train, y_test = y[train_index], y[test_index]\n",
    "    \n",
    "    print(np.unique(y_train, return_counts=True)[1] / y_train.size, y_train.size, \n",
    "          np.unique(y_test,  return_counts=True)[1] / y_test.size,  y_test.size)\n",
    "    "
   ]
  }
 ],
 "metadata": {
  "kernelspec": {
   "display_name": "Python 3",
   "language": "python",
   "name": "python3"
  },
  "language_info": {
   "codemirror_mode": {
    "name": "ipython",
    "version": 3
   },
   "file_extension": ".py",
   "mimetype": "text/x-python",
   "name": "python",
   "nbconvert_exporter": "python",
   "pygments_lexer": "ipython3",
   "version": "3.6.0"
  }
 },
 "nbformat": 4,
 "nbformat_minor": 2
}
